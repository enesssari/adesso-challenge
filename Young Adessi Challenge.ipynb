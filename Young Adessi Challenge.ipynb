{
 "cells": [
  {
   "cell_type": "code",
   "execution_count": 2,
   "id": "e6dc3aeb",
   "metadata": {},
   "outputs": [
    {
     "name": "stdout",
     "output_type": "stream",
     "text": [
      "Github commit trial !!!\n"
     ]
    }
   ],
   "source": [
    "\"\"\"\"Young Adessi Challenge\n",
    "\n",
    " \n",
    "\n",
    "XXX kişilik bir grup çember şeklinde diziliyorlar. 1. kişi topu eline alıyor ve sağındaki oyuncuyu oyundan çıkardıktan sonra , topu onun yanındaki(sağındaki) kişiye veriyor. Aynı şekilde bu kişide sağındaki kişi eledikten sonra onun sağındakine topu veriyor. Bu şekilde oyunda bir kişi kalana kadar oyun devam ediyor. Oyunda en son kaç numaralı oyuncu kalır?\n",
    "\n",
    " \n",
    "\n",
    "*Net Core ile bir web api projesi olmali\n",
    "\n",
    "*Kişi sayısı bilgisi parametre olarak alınacaktır\n",
    "\n",
    "*Api son kalan oyuncu bilgisini geri döndürecektir.\n",
    "\"\"\"\n",
    "\n",
    "# Taking value from user\n",
    "\n",
    "NumOfPlayers = 100  # When you are done with the code delete this and uncomment below !!!\n",
    "#NumOfPlayers = input(\"Please enter the number of players?\")\n",
    "\n",
    "print(NumOfPlayers)\n",
    "\n"
   ]
  },
  {
   "cell_type": "code",
   "execution_count": null,
   "id": "e0cdf36d",
   "metadata": {},
   "outputs": [],
   "source": []
  }
 ],
 "metadata": {
  "kernelspec": {
   "display_name": "Python 3",
   "language": "python",
   "name": "python3"
  },
  "language_info": {
   "codemirror_mode": {
    "name": "ipython",
    "version": 3
   },
   "file_extension": ".py",
   "mimetype": "text/x-python",
   "name": "python",
   "nbconvert_exporter": "python",
   "pygments_lexer": "ipython3",
   "version": "3.8.8"
  }
 },
 "nbformat": 4,
 "nbformat_minor": 5
}
