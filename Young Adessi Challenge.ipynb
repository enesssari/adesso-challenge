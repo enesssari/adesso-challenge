{
 "cells": [
  {
   "cell_type": "code",
   "execution_count": 63,
   "id": "31147298",
   "metadata": {},
   "outputs": [
    {
     "name": "stdout",
     "output_type": "stream",
     "text": [
      "Please enter the number of players?10\n",
      "[1, 2, 3, 4, 5, 6, 7, 8, 9, 10]\n",
      "[1, 3, 5, 7, 9]\n",
      "[1, 5, 9]\n",
      "[5]\n",
      "[5]\n"
     ]
    }
   ],
   "source": [
    "\"\"\"Young Adessi Challenge\n",
    "\n",
    "XXX kişilik bir grup çember şeklinde diziliyorlar. 1. kişi topu eline alıyor ve sağındaki oyuncuyu oyundan çıkardıktan sonra,\n",
    "topu onun yanındaki(sağındaki) kişiye veriyor. Aynı şekilde bu kişide sağındaki kişi eledikten sonra onun sağındakine topu veriyor.\n",
    "Bu şekilde oyunda bir kişi kalana kadar oyun devam ediyor. Oyunda en son kaç numaralı oyuncu kalır?\n",
    "\n",
    " \n",
    "\n",
    "*Net Core ile bir web api projesi olmali\n",
    "\n",
    "*Kişi sayısı bilgisi parametre olarak alınacaktır\n",
    "\n",
    "*Api son kalan oyuncu bilgisini geri döndürecektir.\n",
    "\"\"\"\n",
    "\n",
    "# Taking value from user\n",
    "#NumOfPlayers = 100  # When you are done with the code delete this and uncomment below !!!\n",
    "NumOfPlayers = int(input(\"Please enter the number of players?\"))\n",
    "\n",
    "\n",
    "saving_count = 1    #Global counter for whether player is saved or eliminated. \n",
    "                    #From the beginning each round this number increased and the odd numbers are saved.\n",
    "    \n",
    "players = list(range(1,NumOfPlayers+1)) #creating a list of players\n",
    "\n",
    "print(players) #printing the circular players\n",
    "\n",
    "updated_players = list()  #temporary new round players list- defined also here to start while loop\n",
    "\n",
    "while len(updated_players) != 1:                       #while loop for player elimination unless new round players is 1 person\n",
    "    \n",
    "    updated_players = list()                           #temporary new round players list\n",
    "    \n",
    "    for i in range(len(players)):                      #Each round starts from here\n",
    "        \n",
    "        if saving_count % 2 == 1:                      #Whether player is saved or not, odd numbers are saved. If saving count is odd, then the player is added temporary new round list.\n",
    "            \n",
    "            updated_players.append(players[i])         #Adding survived players to new round player list.\n",
    "            \n",
    "        saving_count += 1                              #global saving count increase happens here.\n",
    "        \n",
    "    players = updated_players                          #Elimination round ends here, new round players updated.\n",
    "    \n",
    "    print(players)                                     #New round players list\n",
    "    \n",
    "print(players)                                         #Last player to survive = Enes :D\n"
   ]
  },
  {
   "cell_type": "code",
   "execution_count": null,
   "id": "a884a521",
   "metadata": {},
   "outputs": [],
   "source": []
  }
 ],
 "metadata": {
  "kernelspec": {
   "display_name": "Python 3",
   "language": "python",
   "name": "python3"
  },
  "language_info": {
   "codemirror_mode": {
    "name": "ipython",
    "version": 3
   },
   "file_extension": ".py",
   "mimetype": "text/x-python",
   "name": "python",
   "nbconvert_exporter": "python",
   "pygments_lexer": "ipython3",
   "version": "3.8.8"
  }
 },
 "nbformat": 4,
 "nbformat_minor": 5
}
